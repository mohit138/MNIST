{
  "nbformat": 4,
  "nbformat_minor": 0,
  "metadata": {
    "colab": {
      "name": "SignLanguageMNIST.ipynb",
      "provenance": []
    },
    "kernelspec": {
      "name": "python3",
      "display_name": "Python 3"
    },
    "accelerator": "GPU"
  },
  "cells": [
    {
      "cell_type": "code",
      "metadata": {
        "id": "iJSBnW4gE0qw",
        "colab_type": "code",
        "colab": {}
      },
      "source": [
        "import os\n",
        "import zipfile\n",
        "\n",
        "local_zip = '/content/drive/My Drive/Data for Learning/Sign Language MNIST/3258_5337_bundle_archive.zip'\n",
        "zip_ref = zipfile.ZipFile(local_zip,'r')\n",
        "zip_ref.extractall('/content/drive/My Drive/Data for Learning/Sign Language MNIST/')\n",
        "zip_ref.close()"
      ],
      "execution_count": 177,
      "outputs": []
    },
    {
      "cell_type": "code",
      "metadata": {
        "id": "ok1bpeEsFuzO",
        "colab_type": "code",
        "colab": {}
      },
      "source": [
        "import pandas as pd\n",
        "import numpy as np\n",
        "\n",
        "train_data = pd.read_csv('/content/drive/My Drive/Data for Learning/Sign Language MNIST/sign_mnist_train.csv')\n",
        "test_data = pd.read_csv('/content/drive/My Drive/Data for Learning/Sign Language MNIST/sign_mnist_test.csv')"
      ],
      "execution_count": 3,
      "outputs": []
    },
    {
      "cell_type": "code",
      "metadata": {
        "id": "Vh8W5fHPGNKL",
        "colab_type": "code",
        "colab": {
          "base_uri": "https://localhost:8080/",
          "height": 127
        },
        "outputId": "366f224d-84e8-4cf4-cc93-83a80d27e4ad"
      },
      "source": [
        "train_data.columns"
      ],
      "execution_count": 4,
      "outputs": [
        {
          "output_type": "execute_result",
          "data": {
            "text/plain": [
              "Index(['label', 'pixel1', 'pixel2', 'pixel3', 'pixel4', 'pixel5', 'pixel6',\n",
              "       'pixel7', 'pixel8', 'pixel9',\n",
              "       ...\n",
              "       'pixel775', 'pixel776', 'pixel777', 'pixel778', 'pixel779', 'pixel780',\n",
              "       'pixel781', 'pixel782', 'pixel783', 'pixel784'],\n",
              "      dtype='object', length=785)"
            ]
          },
          "metadata": {
            "tags": []
          },
          "execution_count": 4
        }
      ]
    },
    {
      "cell_type": "code",
      "metadata": {
        "id": "zAdp8-QnGPy6",
        "colab_type": "code",
        "colab": {
          "base_uri": "https://localhost:8080/",
          "height": 54
        },
        "outputId": "a5b92588-e079-4999-d489-4d4421cd1bb1"
      },
      "source": [
        "y_train = train_data['label'].to_numpy()#.reshape(27455,1)\n",
        "y_test = test_data['label'].to_numpy()\n",
        "print(y_train.shape[0])\n",
        "\n",
        "\n",
        "x_train = (train_data.to_numpy())[:,1:]\n",
        "x_test = (test_data.to_numpy())[:,1:]\n",
        "\n",
        "print(x_train.shape,x_test.shape)"
      ],
      "execution_count": 5,
      "outputs": [
        {
          "output_type": "stream",
          "text": [
            "27455\n",
            "(27455, 784) (7172, 784)\n"
          ],
          "name": "stdout"
        }
      ]
    },
    {
      "cell_type": "code",
      "metadata": {
        "id": "_telbOx0MLy2",
        "colab_type": "code",
        "colab": {
          "base_uri": "https://localhost:8080/",
          "height": 513
        },
        "outputId": "41b7632e-699e-4bc4-fbfd-f68040901838"
      },
      "source": [
        "import matplotlib.pyplot as plt\n",
        "\n",
        "plt.hist(y_train,)\n",
        "plt.show()\n",
        "plt.hist(y_test)\n",
        "plt.show()"
      ],
      "execution_count": 50,
      "outputs": [
        {
          "output_type": "display_data",
          "data": {
            "image/png": "[encoded data removed]",
            "text/plain": [
              "<Figure size 432x288 with 1 Axes>"
            ]
          },
          "metadata": {
            "tags": [],
            "needs_background": "light"
          }
        },
        {
          "output_type": "display_data",
          "data": {
            "image/png": "[encoded data removed]",
            "text/plain": [
              "<Figure size 432x288 with 1 Axes>"
            ]
          },
          "metadata": {
            "tags": [],
            "needs_background": "light"
          }
        }
      ]
    },
    {
      "cell_type": "code",
      "metadata": {
        "id": "Lud8N_4LKbtq",
        "colab_type": "code",
        "colab": {
          "base_uri": "https://localhost:8080/",
          "height": 55
        },
        "outputId": "453b75c2-d124-4ec0-97b9-da98ac24237c"
      },
      "source": [
        "alphabet_string = \"ABCDEFGHIJKLMNOPQRSTUVWXY\"\n",
        "\n",
        "alphabets = list(alphabet_string)\n",
        "print(alphabets)\n"
      ],
      "execution_count": 7,
      "outputs": [
        {
          "output_type": "stream",
          "text": [
            "['A', 'B', 'C', 'D', 'E', 'F', 'G', 'H', 'I', 'J', 'K', 'L', 'M', 'N', 'O', 'P', 'Q', 'R', 'S', 'T', 'U', 'V', 'W', 'X', 'Y']\n"
          ],
          "name": "stdout"
        }
      ]
    },
    {
      "cell_type": "code",
      "metadata": {
        "id": "MqxPimwaGiyR",
        "colab_type": "code",
        "colab": {
          "base_uri": "https://localhost:8080/",
          "height": 1000
        },
        "outputId": "7d409b27-9dae-4bda-e1a0-e9a33f702144"
      },
      "source": [
        "# visualising data\n",
        "import matplotlib.pyplot as plt\n",
        "\n",
        "for i in [2,54,6,9]:\n",
        "    img = x_train[i,:].reshape(28,28)\n",
        "    plt.imshow(img)\n",
        "    plt.show()\n",
        "    print(y_train[i] ,alphabets[y_train[i]] )"
      ],
      "execution_count": 8,
      "outputs": [
        {
          "output_type": "display_data",
          "data": {
            "image/png": "[encoded data removed]",
            "text/plain": [
              "<Figure size 432x288 with 1 Axes>"
            ]
          },
          "metadata": {
            "tags": [],
            "needs_background": "light"
          }
        },
        {
          "output_type": "stream",
          "text": [
            "2 C\n"
          ],
          "name": "stdout"
        },
        {
          "output_type": "display_data",
          "data": {
            "image/png": "[encoded data removed]",
            "text/plain": [
              "<Figure size 432x288 with 1 Axes>"
            ]
          },
          "metadata": {
            "tags": [],
            "needs_background": "light"
          }
        },
        {
          "output_type": "stream",
          "text": [
            "18 S\n"
          ],
          "name": "stdout"
        },
        {
          "output_type": "display_data",
          "data": {
            "image/png": "[encoded data removed]",
            "text/plain": [
              "<Figure size 432x288 with 1 Axes>"
            ]
          },
          "metadata": {
            "tags": [],
            "needs_background": "light"
          }
        },
        {
          "output_type": "stream",
          "text": [
            "8 I\n"
          ],
          "name": "stdout"
        },
        {
          "output_type": "display_data",
          "data": {
            "image/png": "[encoded data removed]",
            "text/plain": [
              "<Figure size 432x288 with 1 Axes>"
            ]
          },
          "metadata": {
            "tags": [],
            "needs_background": "light"
          }
        },
        {
          "output_type": "stream",
          "text": [
            "3 D\n"
          ],
          "name": "stdout"
        }
      ]
    },
    {
      "cell_type": "code",
      "metadata": {
        "id": "x9nrFoi5RvGS",
        "colab_type": "code",
        "colab": {}
      },
      "source": [
        "import sklearn\n",
        "from sklearn.model_selection import train_test_split\n",
        "\n",
        "X_train,X_val,Y_train,Y_val = train_test_split(x_train,y_train,test_size=.15)"
      ],
      "execution_count": 9,
      "outputs": []
    },
    {
      "cell_type": "code",
      "metadata": {
        "id": "oKGKBcGYRVC_",
        "colab_type": "code",
        "colab": {
          "base_uri": "https://localhost:8080/",
          "height": 35
        },
        "outputId": "b05b7a76-fd63-4c7c-ed23-aee80bc6f5bf"
      },
      "source": [
        "X_train = X_train.reshape(-1,28,28,1) #28x28 >> 784 px\n",
        "X_val = X_val.reshape(-1,28,28,1) #28x28 >> 784 px\n",
        "\n",
        "x_test = x_test.reshape(-1,28,28,1)\n",
        "print(X_train.shape)"
      ],
      "execution_count": 10,
      "outputs": [
        {
          "output_type": "stream",
          "text": [
            "(23336, 28, 28, 1)\n"
          ],
          "name": "stdout"
        }
      ]
    },
    {
      "cell_type": "code",
      "metadata": {
        "id": "MnQ2px9sJ9It",
        "colab_type": "code",
        "colab": {}
      },
      "source": [
        "import tensorflow as tf\n",
        "from keras.models import Sequential\n",
        "from keras.layers import Dense,Conv2D,MaxPooling2D,Flatten,Dropout\n",
        "from keras.layers import BatchNormalization\n",
        "from keras.optimizers import RMSprop,Adam\n",
        "from keras.preprocessing.image import ImageDataGenerator\n",
        "\n",
        "model = Sequential()\n",
        "\n",
        "# 1st conv\n",
        "model.add(Conv2D(64,(3,3),activation='relu',input_shape = (28,28,1)))\n",
        "#model.add(BatchNormalization())\n",
        "#1st pooling layer\n",
        "model.add(MaxPooling2D(2,2))\n",
        "model.add(Conv2D(64,(3,3),activation='relu'))\n",
        "#model.add(BatchNormalization())\n",
        "model.add(MaxPooling2D(2,2))\n",
        "\n",
        "model.add(Flatten())\n",
        "model.add(Dense(512,activation='relu'))\n",
        "#model.add(Dropout(.1))\n",
        "#model.add(Dense(256,activation='relu'))\n",
        "model.add(Dropout(.2))\n",
        "model.add(Dense(25,activation='softmax'))"
      ],
      "execution_count": 95,
      "outputs": []
    },
    {
      "cell_type": "code",
      "metadata": {
        "id": "b7HqVeANNbD7",
        "colab_type": "code",
        "colab": {}
      },
      "source": [
        "opt = Adam(learning_rate=.0011)\n",
        "\n",
        "model.compile(optimizer=opt,loss='sparse_categorical_crossentropy',metrics=['accuracy'])"
      ],
      "execution_count": 96,
      "outputs": []
    },
    {
      "cell_type": "code",
      "metadata": {
        "id": "iGUXarE1RDFQ",
        "colab_type": "code",
        "colab": {
          "base_uri": "https://localhost:8080/",
          "height": 458
        },
        "outputId": "5fcb49ca-7361-4eba-c970-d670c10ba1f6"
      },
      "source": [
        "model.summary()"
      ],
      "execution_count": 97,
      "outputs": [
        {
          "output_type": "stream",
          "text": [
            "Model: \"sequential_7\"\n",
            "_________________________________________________________________\n",
            "Layer (type)                 Output Shape              Param #   \n",
            "=================================================================\n",
            "conv2d_12 (Conv2D)           (None, 26, 26, 64)        640       \n",
            "_________________________________________________________________\n",
            "max_pooling2d_11 (MaxPooling (None, 13, 13, 64)        0         \n",
            "_________________________________________________________________\n",
            "conv2d_13 (Conv2D)           (None, 11, 11, 64)        36928     \n",
            "_________________________________________________________________\n",
            "max_pooling2d_12 (MaxPooling (None, 5, 5, 64)          0         \n",
            "_________________________________________________________________\n",
            "flatten_6 (Flatten)          (None, 1600)              0         \n",
            "_________________________________________________________________\n",
            "dense_14 (Dense)             (None, 512)               819712    \n",
            "_________________________________________________________________\n",
            "dropout_6 (Dropout)          (None, 512)               0         \n",
            "_________________________________________________________________\n",
            "dense_15 (Dense)             (None, 25)                12825     \n",
            "=================================================================\n",
            "Total params: 870,105\n",
            "Trainable params: 870,105\n",
            "Non-trainable params: 0\n",
            "_________________________________________________________________\n"
          ],
          "name": "stdout"
        }
      ]
    },
    {
      "cell_type": "code",
      "metadata": {
        "id": "38ZBLyisREtQ",
        "colab_type": "code",
        "colab": {}
      },
      "source": [
        "train_datagen = ImageDataGenerator(\n",
        "    rescale=1./255,\n",
        "    rotation_range = 15,\n",
        "    width_shift_range = .15,\n",
        "    height_shift_range=.15,\n",
        "    shear_range=.2,\n",
        "    zoom_range=.2,\n",
        "    horizontal_flip=True,\n",
        "    fill_mode='nearest'\n",
        ")\n",
        "val_datagen = ImageDataGenerator(rescale=1./255)\n",
        "test_datagen = ImageDataGenerator(rescale=1./255)"
      ],
      "execution_count": 99,
      "outputs": []
    },
    {
      "cell_type": "code",
      "metadata": {
        "id": "1ntONjEfTtv3",
        "colab_type": "code",
        "colab": {}
      },
      "source": [
        "train_generator = train_datagen.flow(X_train,Y_train,batch_size=10)\n",
        "val_generator = val_datagen.flow(X_val,Y_val,batch_size=10)\n",
        "test_generator = test_datagen.flow(x_test,y_test,batch_size=10)"
      ],
      "execution_count": 100,
      "outputs": []
    },
    {
      "cell_type": "code",
      "metadata": {
        "id": "nRFhW1nCUi0E",
        "colab_type": "code",
        "colab": {
          "base_uri": "https://localhost:8080/",
          "height": 772
        },
        "outputId": "d29202b7-5d89-4434-cafb-ff54d1f27324"
      },
      "source": [
        "history = model.fit(\n",
        "    train_generator,\n",
        "    epochs = 20,\n",
        "    verbose=1,\n",
        "    validation_data=val_generator\n",
        ")"
      ],
      "execution_count": 101,
      "outputs": [
        {
          "output_type": "stream",
          "text": [
            "Epoch 1/20\n",
            "2334/2334 [==============================] - 25s 11ms/step - loss: 2.1437 - accuracy: 0.3240 - val_loss: 0.4291 - val_accuracy: 0.7407\n",
            "Epoch 2/20\n",
            "2334/2334 [==============================] - 24s 10ms/step - loss: 1.1321 - accuracy: 0.6233 - val_loss: 0.0896 - val_accuracy: 0.8478\n",
            "Epoch 3/20\n",
            "2334/2334 [==============================] - 25s 11ms/step - loss: 0.8321 - accuracy: 0.7215 - val_loss: 0.1540 - val_accuracy: 0.9277\n",
            "Epoch 4/20\n",
            "2334/2334 [==============================] - 24s 10ms/step - loss: 0.6654 - accuracy: 0.7745 - val_loss: 0.2408 - val_accuracy: 0.9449\n",
            "Epoch 5/20\n",
            "2334/2334 [==============================] - 24s 10ms/step - loss: 0.5793 - accuracy: 0.8057 - val_loss: 0.0679 - val_accuracy: 0.9621\n",
            "Epoch 6/20\n",
            "2334/2334 [==============================] - 24s 10ms/step - loss: 0.5043 - accuracy: 0.8316 - val_loss: 0.1089 - val_accuracy: 0.9689\n",
            "Epoch 7/20\n",
            "2334/2334 [==============================] - 24s 10ms/step - loss: 0.4409 - accuracy: 0.8537 - val_loss: 0.0409 - val_accuracy: 0.9832\n",
            "Epoch 8/20\n",
            "2334/2334 [==============================] - 24s 10ms/step - loss: 0.4070 - accuracy: 0.8622 - val_loss: 0.1299 - val_accuracy: 0.9828\n",
            "Epoch 9/20\n",
            "2334/2334 [==============================] - 24s 10ms/step - loss: 0.3770 - accuracy: 0.8732 - val_loss: 0.0189 - val_accuracy: 0.9908\n",
            "Epoch 10/20\n",
            "2334/2334 [==============================] - 24s 10ms/step - loss: 0.3442 - accuracy: 0.8835 - val_loss: 0.0694 - val_accuracy: 0.9760\n",
            "Epoch 11/20\n",
            "2334/2334 [==============================] - 24s 10ms/step - loss: 0.3388 - accuracy: 0.8878 - val_loss: 0.0037 - val_accuracy: 0.9888\n",
            "Epoch 12/20\n",
            "2334/2334 [==============================] - 24s 10ms/step - loss: 0.3206 - accuracy: 0.8944 - val_loss: 0.0053 - val_accuracy: 0.9818\n",
            "Epoch 13/20\n",
            "2334/2334 [==============================] - 25s 11ms/step - loss: 0.3145 - accuracy: 0.8953 - val_loss: 0.0392 - val_accuracy: 0.9891\n",
            "Epoch 14/20\n",
            "2334/2334 [==============================] - 24s 10ms/step - loss: 0.2833 - accuracy: 0.9056 - val_loss: 0.0023 - val_accuracy: 0.9988\n",
            "Epoch 15/20\n",
            "2334/2334 [==============================] - 24s 10ms/step - loss: 0.2888 - accuracy: 0.9048 - val_loss: 0.0013 - val_accuracy: 0.9879\n",
            "Epoch 16/20\n",
            "2334/2334 [==============================] - 24s 10ms/step - loss: 0.2674 - accuracy: 0.9119 - val_loss: 0.0893 - val_accuracy: 0.9920\n",
            "Epoch 17/20\n",
            "2334/2334 [==============================] - 24s 10ms/step - loss: 0.2572 - accuracy: 0.9144 - val_loss: 0.0049 - val_accuracy: 0.9857\n",
            "Epoch 18/20\n",
            "2334/2334 [==============================] - 24s 10ms/step - loss: 0.2483 - accuracy: 0.9151 - val_loss: 0.1830 - val_accuracy: 0.9888\n",
            "Epoch 19/20\n",
            "2334/2334 [==============================] - 24s 10ms/step - loss: 0.2399 - accuracy: 0.9194 - val_loss: 0.0115 - val_accuracy: 0.9947\n",
            "Epoch 20/20\n",
            "2334/2334 [==============================] - 24s 10ms/step - loss: 0.2353 - accuracy: 0.9217 - val_loss: 0.0025 - val_accuracy: 0.9971\n"
          ],
          "name": "stdout"
        }
      ]
    },
    {
      "cell_type": "code",
      "metadata": {
        "id": "a-3q92MUVsX0",
        "colab_type": "code",
        "colab": {
          "base_uri": "https://localhost:8080/",
          "height": 582
        },
        "outputId": "0bf3d517-2c7b-4096-fc5f-fc2e0105bb75"
      },
      "source": [
        "import matplotlib.pyplot as plt\n",
        "acc = history.history['accuracy']\n",
        "val_acc = history.history['val_accuracy']\n",
        "loss = history.history['loss']\n",
        "val_loss = history.history['val_loss']\n",
        "\n",
        "epochs = range(len(acc))\n",
        "\n",
        "plt.plot(epochs, acc, 'r', label='Training accuracy')\n",
        "plt.plot(epochs, val_acc, 'b', label='Validation accuracy')\n",
        "plt.title('Training and validation accuracy')\n",
        "plt.legend(loc=0)\n",
        "plt.figure()\n",
        "\n",
        "plt.show()\n",
        "\n",
        "plt.plot(epochs, loss, 'r', label='Training loss')\n",
        "plt.plot(epochs, val_loss, 'b', label='Validation loss')\n",
        "plt.title('Training and validation accuracy')\n",
        "plt.legend(loc=0)\n",
        "plt.figure()\n",
        "\n",
        "plt.show()\n"
      ],
      "execution_count": 102,
      "outputs": [
        {
          "output_type": "display_data",
          "data": {
            "image/png": "[encoded data removed]",
            "text/plain": [
              "<Figure size 432x288 with 1 Axes>"
            ]
          },
          "metadata": {
            "tags": [],
            "needs_background": "light"
          }
        },
        {
          "output_type": "display_data",
          "data": {
            "text/plain": [
              "<Figure size 432x288 with 0 Axes>"
            ]
          },
          "metadata": {
            "tags": []
          }
        },
        {
          "output_type": "display_data",
          "data": {
            "image/png": "[encoded data removed]",
            "text/plain": [
              "<Figure size 432x288 with 1 Axes>"
            ]
          },
          "metadata": {
            "tags": [],
            "needs_background": "light"
          }
        },
        {
          "output_type": "display_data",
          "data": {
            "text/plain": [
              "<Figure size 432x288 with 0 Axes>"
            ]
          },
          "metadata": {
            "tags": []
          }
        }
      ]
    },
    {
      "cell_type": "code",
      "metadata": {
        "id": "L-lB8vG3avbG",
        "colab_type": "code",
        "colab": {
          "base_uri": "https://localhost:8080/",
          "height": 72
        },
        "outputId": "5d6c7281-4e24-461c-a68d-8a10895025b8"
      },
      "source": [
        "score = model.evaluate(x_test/255.,y_test,verbose = 1)\n",
        "\n",
        "print(\"Test Loss : \",score[0])\n",
        "print(\"Test Accuracy : \",score[1])"
      ],
      "execution_count": 103,
      "outputs": [
        {
          "output_type": "stream",
          "text": [
            "7172/7172 [==============================] - 1s 114us/step\n",
            "Test Loss :  0.016640694338909613\n",
            "Test Accuracy :  0.9967930912971497\n"
          ],
          "name": "stdout"
        }
      ]
    },
    {
      "cell_type": "code",
      "metadata": {
        "id": "RbCZy3k9dD3R",
        "colab_type": "code",
        "colab": {
          "base_uri": "https://localhost:8080/",
          "height": 592
        },
        "outputId": "c0aac12e-9ce6-4c29-cb4d-0f4d3fe75cf0"
      },
      "source": [
        "from keras.preprocessing import image\n",
        "\n",
        "path = '/content/drive/My Drive/Data for Learning/Sign Language MNIST/O.jpg'\n",
        "img=image.load_img(path,grayscale=True)\n",
        "#img_array = image.img_to_array(img)\n",
        "plt.imshow(img)\n",
        "plt.show()\n",
        "\n",
        "img=image.load_img(path,grayscale=True,target_size=(28,28))\n",
        "img_array = image.img_to_array(img)\n",
        "plt.imshow(img)\n",
        "plt.show()\n",
        "\n",
        "x = np.expand_dims(img_array, axis=0)\n",
        "\n",
        "images = np.vstack([x])\n",
        "classes = model.predict(images/255., batch_size=10)\n",
        "\n",
        "print(\"Predicted letter is : \",alphabets[np.argmax(classes)],\"  \",np.argmax(classes))\n"
      ],
      "execution_count": 119,
      "outputs": [
        {
          "output_type": "stream",
          "text": [
            "/usr/local/lib/python3.6/dist-packages/keras_preprocessing/image/utils.py:107: UserWarning: grayscale is deprecated. Please use color_mode = \"grayscale\"\n",
            "  warnings.warn('grayscale is deprecated. Please use '\n"
          ],
          "name": "stderr"
        },
        {
          "output_type": "display_data",
          "data": {
            "image/png": "[encoded data removed]",
            "text/plain": [
              "<Figure size 432x288 with 1 Axes>"
            ]
          },
          "metadata": {
            "tags": [],
            "needs_background": "light"
          }
        },
        {
          "output_type": "display_data",
          "data": {
            "image/png": "[encoded data removed]",
            "text/plain": [
              "<Figure size 432x288 with 1 Axes>"
            ]
          },
          "metadata": {
            "tags": [],
            "needs_background": "light"
          }
        },
        {
          "output_type": "stream",
          "text": [
            "Predicted letter is :  O    14\n"
          ],
          "name": "stdout"
        }
      ]
    },
    {
      "cell_type": "code",
      "metadata": {
        "id": "8OIaglYhgQ0a",
        "colab_type": "code",
        "colab": {
          "base_uri": "https://localhost:8080/",
          "height": 109
        },
        "outputId": "62a150a5-b9ff-4220-999f-e991527ca035"
      },
      "source": [
        "print(classes)"
      ],
      "execution_count": 120,
      "outputs": [
        {
          "output_type": "stream",
          "text": [
            "[[2.3008345e-16 8.2708770e-12 4.4726641e-03 1.7721520e-11 1.5931520e-12\n",
            "  1.6184318e-01 2.2830706e-07 2.9939193e-12 1.7025982e-15 5.5248584e-28\n",
            "  7.8723408e-12 3.9966636e-14 4.5362990e-18 1.0329559e-11 8.3367950e-01\n",
            "  4.2409538e-06 6.3999124e-08 1.2185805e-15 2.8119141e-13 5.7069631e-08\n",
            "  1.1632055e-19 9.6049229e-25 5.9125629e-20 5.0047099e-08 2.9862570e-18]]\n"
          ],
          "name": "stdout"
        }
      ]
    },
    {
      "cell_type": "code",
      "metadata": {
        "id": "ZyAxwPNHjknB",
        "colab_type": "code",
        "colab": {}
      },
      "source": [
        ""
      ],
      "execution_count": 69,
      "outputs": []
    }
  ]
}