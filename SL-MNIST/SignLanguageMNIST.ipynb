{
  "nbformat": 4,
  "nbformat_minor": 0,
  "metadata": {
    "colab": {
      "name": "SignLanguageMNIST.ipynb",
      "provenance": []
    },
    "kernelspec": {
      "name": "python3",
      "display_name": "Python 3"
    },
    "accelerator": "GPU"
  },
  "cells": [
    {
      "cell_type": "code",
      "metadata": {
        "id": "iJSBnW4gE0qw",
        "colab_type": "code",
        "colab": {}
      },
      "source": [
        "import os\n",
        "import zipfile\n",
        "\n",
        "local_zip = '/content/drive/My Drive/Data for Learning/Sign Language MNIST/3258_5337_bundle_archive.zip'\n",
        "zip_ref = zipfile.ZipFile(local_zip,'r')\n",
        "zip_ref.extractall('/content/drive/My Drive/Data for Learning/Sign Language MNIST/')\n",
        "zip_ref.close()"
      ],
      "execution_count": 2,
      "outputs": []
    },
    {
      "cell_type": "code",
      "metadata": {
        "id": "ok1bpeEsFuzO",
        "colab_type": "code",
        "colab": {}
      },
      "source": [
        "import pandas as pd\n",
        "import numpy as np\n",
        "\n",
        "train_data = pd.read_csv('/content/drive/My Drive/Data for Learning/Sign Language MNIST/sign_mnist_train.csv')\n",
        "test_data = pd.read_csv('/content/drive/My Drive/Data for Learning/Sign Language MNIST/sign_mnist_test.csv')"
      ],
      "execution_count": 3,
      "outputs": []
    },
    {
      "cell_type": "code",
      "metadata": {
        "id": "Vh8W5fHPGNKL",
        "colab_type": "code",
        "colab": {
          "base_uri": "https://localhost:8080/",
          "height": 127
        },
        "outputId": "bf30c956-1c99-46d3-9204-95dcb996c696"
      },
      "source": [
        "train_data.columns"
      ],
      "execution_count": 4,
      "outputs": [
        {
          "output_type": "execute_result",
          "data": {
            "text/plain": [
              "Index(['label', 'pixel1', 'pixel2', 'pixel3', 'pixel4', 'pixel5', 'pixel6',\n",
              "       'pixel7', 'pixel8', 'pixel9',\n",
              "       ...\n",
              "       'pixel775', 'pixel776', 'pixel777', 'pixel778', 'pixel779', 'pixel780',\n",
              "       'pixel781', 'pixel782', 'pixel783', 'pixel784'],\n",
              "      dtype='object', length=785)"
            ]
          },
          "metadata": {
            "tags": []
          },
          "execution_count": 4
        }
      ]
    },
    {
      "cell_type": "code",
      "metadata": {
        "id": "zAdp8-QnGPy6",
        "colab_type": "code",
        "colab": {
          "base_uri": "https://localhost:8080/",
          "height": 54
        },
        "outputId": "e7aa4558-b29d-4c93-ef4c-58a162120b98"
      },
      "source": [
        "y_train = train_data['label'].to_numpy()#.reshape(27455,1)\n",
        "y_test = test_data['label'].to_numpy()\n",
        "print(y_train.shape[0])\n",
        "\n",
        "\n",
        "x_train = (train_data.to_numpy())[:,1:]\n",
        "x_test = (test_data.to_numpy())[:,1:]\n",
        "\n",
        "print(x_train.shape,x_test.shape)"
      ],
      "execution_count": 34,
      "outputs": [
        {
          "output_type": "stream",
          "text": [
            "27455\n",
            "(27455, 784) (7172, 784)\n"
          ],
          "name": "stdout"
        }
      ]
    },
    {
      "cell_type": "code",
      "metadata": {
        "id": "_telbOx0MLy2",
        "colab_type": "code",
        "colab": {
          "base_uri": "https://localhost:8080/",
          "height": 513
        },
        "outputId": "3c31094e-e932-4d0e-f3e9-85f1b1e46018"
      },
      "source": [
        "plt.hist(y_train,)\n",
        "plt.show()\n",
        "plt.hist(y_test)\n",
        "plt.show()"
      ],
      "execution_count": 46,
      "outputs": [
        {
          "output_type": "display_data",
          "data": {
            "image/png": "[encoded data removed]",
            "text/plain": [
              "<Figure size 432x288 with 1 Axes>"
            ]
          },
          "metadata": {
            "tags": [],
            "needs_background": "light"
          }
        },
        {
          "output_type": "display_data",
          "data": {
            "image/png": "[encoded data removed]",
            "text/plain": [
              "<Figure size 432x288 with 1 Axes>"
            ]
          },
          "metadata": {
            "tags": [],
            "needs_background": "light"
          }
        }
      ]
    },
    {
      "cell_type": "code",
      "metadata": {
        "id": "Lud8N_4LKbtq",
        "colab_type": "code",
        "colab": {
          "base_uri": "https://localhost:8080/",
          "height": 55
        },
        "outputId": "f35e0efb-71cc-4a58-e465-bdd8022f5211"
      },
      "source": [
        "alphabet_string = \"ABCDEFGHIJKLMNOPQRSTUVWXY\"\n",
        "\n",
        "alphabets = list(alphabet_string)\n",
        "print(alphabets)\n"
      ],
      "execution_count": 38,
      "outputs": [
        {
          "output_type": "stream",
          "text": [
            "['A', 'B', 'C', 'D', 'E', 'F', 'G', 'H', 'I', 'J', 'K', 'L', 'M', 'N', 'O', 'P', 'Q', 'R', 'S', 'T', 'U', 'V', 'W', 'X', 'Y']\n"
          ],
          "name": "stdout"
        }
      ]
    },
    {
      "cell_type": "code",
      "metadata": {
        "id": "MqxPimwaGiyR",
        "colab_type": "code",
        "colab": {
          "base_uri": "https://localhost:8080/",
          "height": 1000
        },
        "outputId": "519cfdc0-47d7-40ac-9eb6-07f37b0d0ed3"
      },
      "source": [
        "# visualising data\n",
        "import matplotlib.pyplot as plt\n",
        "\n",
        "for i in [2,54,6,9]:\n",
        "    img = x_train[i,:].reshape(28,28)\n",
        "    plt.imshow(img)\n",
        "    plt.show()\n",
        "    print(y_train[i] ,alphabets[y_train[i]] )"
      ],
      "execution_count": 39,
      "outputs": [
        {
          "output_type": "display_data",
          "data": {
            "image/png": "[encoded data removed]",
            "text/plain": [
              "<Figure size 432x288 with 1 Axes>"
            ]
          },
          "metadata": {
            "tags": [],
            "needs_background": "light"
          }
        },
        {
          "output_type": "stream",
          "text": [
            "2 C\n"
          ],
          "name": "stdout"
        },
        {
          "output_type": "display_data",
          "data": {
            "image/png": "[encoded data removed]",
            "text/plain": [
              "<Figure size 432x288 with 1 Axes>"
            ]
          },
          "metadata": {
            "tags": [],
            "needs_background": "light"
          }
        },
        {
          "output_type": "stream",
          "text": [
            "18 S\n"
          ],
          "name": "stdout"
        },
        {
          "output_type": "display_data",
          "data": {
            "image/png": "[encoded data removed]",
            "text/plain": [
              "<Figure size 432x288 with 1 Axes>"
            ]
          },
          "metadata": {
            "tags": [],
            "needs_background": "light"
          }
        },
        {
          "output_type": "stream",
          "text": [
            "8 I\n"
          ],
          "name": "stdout"
        },
        {
          "output_type": "display_data",
          "data": {
            "image/png": "[encoded data removed]",
            "text/plain": [
              "<Figure size 432x288 with 1 Axes>"
            ]
          },
          "metadata": {
            "tags": [],
            "needs_background": "light"
          }
        },
        {
          "output_type": "stream",
          "text": [
            "3 D\n"
          ],
          "name": "stdout"
        }
      ]
    },
    {
      "cell_type": "code",
      "metadata": {
        "id": "x9nrFoi5RvGS",
        "colab_type": "code",
        "colab": {}
      },
      "source": [
        "import sklearn\n",
        "from sklearn.model_selection import train_test_split\n",
        "\n",
        "X_train,X_val,Y_train,Y_val = train_test_split(x_train,y_train,test_size=.15)"
      ],
      "execution_count": 60,
      "outputs": []
    },
    {
      "cell_type": "code",
      "metadata": {
        "id": "oKGKBcGYRVC_",
        "colab_type": "code",
        "colab": {
          "base_uri": "https://localhost:8080/",
          "height": 35
        },
        "outputId": "1d47cb4b-be3f-42be-b933-f4922da6d0df"
      },
      "source": [
        "X_train = X_train.reshape(-1,28,28,1) #28x28 >> 784 px\n",
        "X_val = X_val.reshape(-1,28,28,1) #28x28 >> 784 px\n",
        "\n",
        "x_test = x_test.reshape(-1,28,28,1)\n",
        "print(X_train.shape)"
      ],
      "execution_count": 62,
      "outputs": [
        {
          "output_type": "stream",
          "text": [
            "(23336, 28, 28, 1)\n"
          ],
          "name": "stdout"
        }
      ]
    },
    {
      "cell_type": "code",
      "metadata": {
        "id": "MnQ2px9sJ9It",
        "colab_type": "code",
        "colab": {}
      },
      "source": [
        "import tensorflow as tf\n",
        "from keras.models import Sequential\n",
        "from keras.layers import Dense,Conv2D,MaxPooling2D,Flatten,Dropout\n",
        "from keras.optimizers import RMSprop,Adam\n",
        "from keras.preprocessing.image import ImageDataGenerator\n",
        "\n",
        "model = Sequential()\n",
        "\n",
        "# 1st conv\n",
        "model.add(Conv2D(64,(3,3),activation='relu',input_shape = (28,28,1)))\n",
        "\n",
        "#1st pooling layer\n",
        "model.add(MaxPooling2D(2,2))\n",
        "model.add(Conv2D(64,(3,3),activation='relu'))\n",
        "\n",
        "model.add(MaxPooling2D(2,2))\n",
        "\n",
        "model.add(Flatten())\n",
        "model.add(Dense(512,activation='relu'))\n",
        "model.add(Dropout(.1))\n",
        "model.add(Dense(256,activation='relu'))\n",
        "model.add(Dropout(.1))\n",
        "model.add(Dense(25,activation='softmax'))"
      ],
      "execution_count": 115,
      "outputs": []
    },
    {
      "cell_type": "code",
      "metadata": {
        "id": "b7HqVeANNbD7",
        "colab_type": "code",
        "colab": {}
      },
      "source": [
        "opt = Adam(learning_rate=.0011)\n",
        "\n",
        "model.compile(optimizer=opt,loss='sparse_categorical_crossentropy',metrics=['accuracy'])"
      ],
      "execution_count": 116,
      "outputs": []
    },
    {
      "cell_type": "code",
      "metadata": {
        "id": "iGUXarE1RDFQ",
        "colab_type": "code",
        "colab": {
          "base_uri": "https://localhost:8080/",
          "height": 531
        },
        "outputId": "3a5cc19f-78ff-4315-fc93-b030281761a7"
      },
      "source": [
        "model.summary()"
      ],
      "execution_count": 117,
      "outputs": [
        {
          "output_type": "stream",
          "text": [
            "Model: \"sequential_15\"\n",
            "_________________________________________________________________\n",
            "Layer (type)                 Output Shape              Param #   \n",
            "=================================================================\n",
            "conv2d_45 (Conv2D)           (None, 26, 26, 64)        640       \n",
            "_________________________________________________________________\n",
            "max_pooling2d_35 (MaxPooling (None, 13, 13, 64)        0         \n",
            "_________________________________________________________________\n",
            "conv2d_46 (Conv2D)           (None, 11, 11, 64)        36928     \n",
            "_________________________________________________________________\n",
            "max_pooling2d_36 (MaxPooling (None, 5, 5, 64)          0         \n",
            "_________________________________________________________________\n",
            "flatten_13 (Flatten)         (None, 1600)              0         \n",
            "_________________________________________________________________\n",
            "dense_29 (Dense)             (None, 512)               819712    \n",
            "_________________________________________________________________\n",
            "dropout_16 (Dropout)         (None, 512)               0         \n",
            "_________________________________________________________________\n",
            "dense_30 (Dense)             (None, 256)               131328    \n",
            "_________________________________________________________________\n",
            "dropout_17 (Dropout)         (None, 256)               0         \n",
            "_________________________________________________________________\n",
            "dense_31 (Dense)             (None, 25)                6425      \n",
            "=================================================================\n",
            "Total params: 995,033\n",
            "Trainable params: 995,033\n",
            "Non-trainable params: 0\n",
            "_________________________________________________________________\n"
          ],
          "name": "stdout"
        }
      ]
    },
    {
      "cell_type": "code",
      "metadata": {
        "id": "38ZBLyisREtQ",
        "colab_type": "code",
        "colab": {}
      },
      "source": [
        "train_datagen = ImageDataGenerator(\n",
        "    rescale=1./255,\n",
        "    rotation_range = 25,\n",
        "    width_shift_range = .15,\n",
        "    height_shift_range=.15,\n",
        "    shear_range=.2,\n",
        "    zoom_range=.2,\n",
        "    horizontal_flip=True,\n",
        "    fill_mode='nearest'\n",
        ")\n",
        "val_datagen = ImageDataGenerator(rescale=1./255)\n",
        "test_datagen = ImageDataGenerator(rescale=1./255)"
      ],
      "execution_count": 118,
      "outputs": []
    },
    {
      "cell_type": "code",
      "metadata": {
        "id": "1ntONjEfTtv3",
        "colab_type": "code",
        "colab": {}
      },
      "source": [
        "train_generator = train_datagen.flow(X_train,Y_train,batch_size=10)\n",
        "val_generator = val_datagen.flow(X_val,Y_val,batch_size=10)\n",
        "test_generator = test_datagen.flow(x_test,y_test,batch_size=10)"
      ],
      "execution_count": 119,
      "outputs": []
    },
    {
      "cell_type": "code",
      "metadata": {
        "id": "nRFhW1nCUi0E",
        "colab_type": "code",
        "colab": {
          "base_uri": "https://localhost:8080/",
          "height": 772
        },
        "outputId": "126a3a8e-b2d6-40e9-d4f0-3ad556066583"
      },
      "source": [
        "history = model.fit(\n",
        "    train_generator,\n",
        "    epochs = 20,\n",
        "    verbose=1,\n",
        "    validation_data=val_generator\n",
        ")"
      ],
      "execution_count": 120,
      "outputs": [
        {
          "output_type": "stream",
          "text": [
            "Epoch 1/20\n",
            "2334/2334 [==============================] - 26s 11ms/step - loss: 2.2114 - accuracy: 0.2911 - val_loss: 0.3540 - val_accuracy: 0.6604\n",
            "Epoch 2/20\n",
            "2334/2334 [==============================] - 26s 11ms/step - loss: 1.1449 - accuracy: 0.6077 - val_loss: 0.2797 - val_accuracy: 0.8820\n",
            "Epoch 3/20\n",
            "2334/2334 [==============================] - 26s 11ms/step - loss: 0.8287 - accuracy: 0.7156 - val_loss: 0.0578 - val_accuracy: 0.9017\n",
            "Epoch 4/20\n",
            "2334/2334 [==============================] - 27s 11ms/step - loss: 0.6696 - accuracy: 0.7668 - val_loss: 0.0183 - val_accuracy: 0.9544\n",
            "Epoch 5/20\n",
            "2334/2334 [==============================] - 26s 11ms/step - loss: 0.5648 - accuracy: 0.8056 - val_loss: 0.0415 - val_accuracy: 0.9663\n",
            "Epoch 6/20\n",
            "2334/2334 [==============================] - 26s 11ms/step - loss: 0.5029 - accuracy: 0.8263 - val_loss: 0.0250 - val_accuracy: 0.9796\n",
            "Epoch 7/20\n",
            "2334/2334 [==============================] - 26s 11ms/step - loss: 0.4565 - accuracy: 0.8449 - val_loss: 0.0245 - val_accuracy: 0.9806\n",
            "Epoch 8/20\n",
            "2334/2334 [==============================] - 26s 11ms/step - loss: 0.4039 - accuracy: 0.8633 - val_loss: 0.0069 - val_accuracy: 0.9786\n",
            "Epoch 9/20\n",
            "2334/2334 [==============================] - 26s 11ms/step - loss: 0.3815 - accuracy: 0.8720 - val_loss: 0.7808 - val_accuracy: 0.9675\n",
            "Epoch 10/20\n",
            "2334/2334 [==============================] - 26s 11ms/step - loss: 0.3554 - accuracy: 0.8785 - val_loss: 0.4050 - val_accuracy: 0.9692\n",
            "Epoch 11/20\n",
            "2334/2334 [==============================] - 26s 11ms/step - loss: 0.3422 - accuracy: 0.8865 - val_loss: 0.0156 - val_accuracy: 0.9718\n",
            "Epoch 12/20\n",
            "2334/2334 [==============================] - 26s 11ms/step - loss: 0.3256 - accuracy: 0.8904 - val_loss: 0.0079 - val_accuracy: 0.9857\n",
            "Epoch 13/20\n",
            "2334/2334 [==============================] - 26s 11ms/step - loss: 0.3156 - accuracy: 0.8953 - val_loss: 0.0728 - val_accuracy: 0.9820\n",
            "Epoch 14/20\n",
            "2334/2334 [==============================] - 26s 11ms/step - loss: 0.2966 - accuracy: 0.9002 - val_loss: 9.4167e-04 - val_accuracy: 0.9917\n",
            "Epoch 15/20\n",
            "2334/2334 [==============================] - 26s 11ms/step - loss: 0.2873 - accuracy: 0.9036 - val_loss: 0.0533 - val_accuracy: 0.9908\n",
            "Epoch 16/20\n",
            "2334/2334 [==============================] - 26s 11ms/step - loss: 0.2924 - accuracy: 0.9040 - val_loss: 0.0043 - val_accuracy: 0.9937\n",
            "Epoch 17/20\n",
            "2334/2334 [==============================] - 26s 11ms/step - loss: 0.2799 - accuracy: 0.9082 - val_loss: 0.0140 - val_accuracy: 0.9913\n",
            "Epoch 18/20\n",
            "2334/2334 [==============================] - 26s 11ms/step - loss: 0.2669 - accuracy: 0.9131 - val_loss: 0.0437 - val_accuracy: 0.9925\n",
            "Epoch 19/20\n",
            "2334/2334 [==============================] - 26s 11ms/step - loss: 0.2646 - accuracy: 0.9126 - val_loss: 4.4172e-04 - val_accuracy: 0.9862\n",
            "Epoch 20/20\n",
            "2334/2334 [==============================] - 26s 11ms/step - loss: 0.2585 - accuracy: 0.9167 - val_loss: 0.0103 - val_accuracy: 0.9942\n"
          ],
          "name": "stdout"
        }
      ]
    },
    {
      "cell_type": "code",
      "metadata": {
        "id": "a-3q92MUVsX0",
        "colab_type": "code",
        "colab": {
          "base_uri": "https://localhost:8080/",
          "height": 582
        },
        "outputId": "728fc343-975e-4c6b-f1b0-56c90c4e9320"
      },
      "source": [
        "import matplotlib.pyplot as plt\n",
        "acc = history.history['accuracy']\n",
        "val_acc = history.history['val_accuracy']\n",
        "loss = history.history['loss']\n",
        "val_loss = history.history['val_loss']\n",
        "\n",
        "epochs = range(len(acc))\n",
        "\n",
        "plt.plot(epochs, acc, 'r', label='Training accuracy')\n",
        "plt.plot(epochs, val_acc, 'b', label='Validation accuracy')\n",
        "plt.title('Training and validation accuracy')\n",
        "plt.legend(loc=0)\n",
        "plt.figure()\n",
        "\n",
        "plt.show()\n",
        "\n",
        "plt.plot(epochs, loss, 'r', label='Training loss')\n",
        "plt.plot(epochs, val_loss, 'b', label='Validation loss')\n",
        "plt.title('Training and validation accuracy')\n",
        "plt.legend(loc=0)\n",
        "plt.figure()\n",
        "\n",
        "plt.show()\n"
      ],
      "execution_count": 121,
      "outputs": [
        {
          "output_type": "display_data",
          "data": {
            "image/png": "[encoded data removed]",
            "text/plain": [
              "<Figure size 432x288 with 1 Axes>"
            ]
          },
          "metadata": {
            "tags": [],
            "needs_background": "light"
          }
        },
        {
          "output_type": "display_data",
          "data": {
            "text/plain": [
              "<Figure size 432x288 with 0 Axes>"
            ]
          },
          "metadata": {
            "tags": []
          }
        },
        {
          "output_type": "display_data",
          "data": {
            "image/png": "[encoded data removed]",
            "text/plain": [
              "<Figure size 432x288 with 1 Axes>"
            ]
          },
          "metadata": {
            "tags": [],
            "needs_background": "light"
          }
        },
        {
          "output_type": "display_data",
          "data": {
            "text/plain": [
              "<Figure size 432x288 with 0 Axes>"
            ]
          },
          "metadata": {
            "tags": []
          }
        }
      ]
    },
    {
      "cell_type": "code",
      "metadata": {
        "id": "L-lB8vG3avbG",
        "colab_type": "code",
        "colab": {
          "base_uri": "https://localhost:8080/",
          "height": 72
        },
        "outputId": "eb9532b1-e44c-4c70-b299-5e706f38cffb"
      },
      "source": [
        "score = model.evaluate(x_test,y_test,verbose = 1)\n",
        "print(\"Test Loss : \",score[0])\n",
        "print(\"Test Accuracy : \",score[1])"
      ],
      "execution_count": 123,
      "outputs": [
        {
          "output_type": "stream",
          "text": [
            "7172/7172 [==============================] - 1s 128us/step\n",
            "Test Loss :  56.33543684166517\n",
            "Test Accuracy :  0.8878973722457886\n"
          ],
          "name": "stdout"
        }
      ]
    },
    {
      "cell_type": "code",
      "metadata": {
        "id": "RbCZy3k9dD3R",
        "colab_type": "code",
        "colab": {
          "base_uri": "https://localhost:8080/",
          "height": 592
        },
        "outputId": "7e70e3f2-94ae-4f90-a72a-e696c0c9e5b2"
      },
      "source": [
        "from keras.preprocessing import image\n",
        "\n",
        "path = '/content/drive/My Drive/Data for Learning/Sign Language MNIST/L.jpg'\n",
        "img=image.load_img(path,grayscale=True)\n",
        "#img_array = image.img_to_array(img)\n",
        "plt.imshow(img)\n",
        "plt.show()\n",
        "\n",
        "img=image.load_img(path,grayscale=True,target_size=(28,28))\n",
        "img_array = image.img_to_array(img)\n",
        "plt.imshow(img)\n",
        "plt.show()\n",
        "\n",
        "x = np.expand_dims(img_array, axis=0)\n",
        "\n",
        "images = np.vstack([x])\n",
        "classes = model.predict(images, batch_size=10)\n",
        "\n",
        "print(\"Predicted letter is : \",alphabets[np.argmax(classes)])\n"
      ],
      "execution_count": 155,
      "outputs": [
        {
          "output_type": "stream",
          "text": [
            "/usr/local/lib/python3.6/dist-packages/keras_preprocessing/image/utils.py:107: UserWarning: grayscale is deprecated. Please use color_mode = \"grayscale\"\n",
            "  warnings.warn('grayscale is deprecated. Please use '\n"
          ],
          "name": "stderr"
        },
        {
          "output_type": "display_data",
          "data": {
            "image/png": "[encoded data removed]",
            "text/plain": [
              "<Figure size 432x288 with 1 Axes>"
            ]
          },
          "metadata": {
            "tags": [],
            "needs_background": "light"
          }
        },
        {
          "output_type": "display_data",
          "data": {
            "image/png": "[encoded data removed]",
            "text/plain": [
              "<Figure size 432x288 with 1 Axes>"
            ]
          },
          "metadata": {
            "tags": [],
            "needs_background": "light"
          }
        },
        {
          "output_type": "stream",
          "text": [
            "Predicted letter is :  L\n"
          ],
          "name": "stdout"
        }
      ]
    },
    {
      "cell_type": "code",
      "metadata": {
        "id": "8OIaglYhgQ0a",
        "colab_type": "code",
        "colab": {
          "base_uri": "https://localhost:8080/",
          "height": 54
        },
        "outputId": "efcbcb78-6051-4d63-a3d4-b890c3b2570f"
      },
      "source": [
        ""
      ],
      "execution_count": 146,
      "outputs": [
        {
          "output_type": "stream",
          "text": [
            "[[0. 0. 0. 0. 0. 0. 0. 0. 0. 0. 0. 0. 0. 0. 0. 0. 0. 0. 1. 0. 0. 0. 0. 0.\n",
            "  0.]]\n"
          ],
          "name": "stdout"
        }
      ]
    },
    {
      "cell_type": "code",
      "metadata": {
        "id": "ZyAxwPNHjknB",
        "colab_type": "code",
        "colab": {}
      },
      "source": [
        ""
      ],
      "execution_count": null,
      "outputs": []
    }
  ]
}